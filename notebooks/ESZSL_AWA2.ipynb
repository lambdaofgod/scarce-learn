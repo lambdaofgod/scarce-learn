{
 "cells": [
  {
   "cell_type": "markdown",
   "metadata": {
    "colab_type": "text",
    "id": "BVE8gNxfs_-A"
   },
   "source": [
    "# Implementation of *[An embarrassingly simple approach to zero-shot learning](http://proceedings.mlr.press/v37/romera-paredes15.pdf)*"
   ]
  },
  {
   "cell_type": "code",
   "execution_count": 1,
   "metadata": {
    "colab": {
     "base_uri": "https://localhost:8080/",
     "height": 34
    },
    "colab_type": "code",
    "id": "1sPh1VLJtNr5",
    "outputId": "c280c1f9-9e4f-474d-8bfe-5a4fc7a94633"
   },
   "outputs": [],
   "source": [
    "import numpy as np\n",
    "from scipy.stats import hmean\n",
    "\n",
    "from sklearn.metrics import accuracy_score\n",
    "\n",
    "from scarce_learn.data.awa2 import load_awa2\n",
    "from scarce_learn.zero import ESZSLearner"
   ]
  },
  {
   "cell_type": "code",
   "execution_count": 2,
   "metadata": {
    "colab": {},
    "colab_type": "code",
    "id": "0CR0KZH9tPYZ"
   },
   "outputs": [],
   "source": [
    "awa2_dataset = load_awa2()"
   ]
  },
  {
   "cell_type": "code",
   "execution_count": 3,
   "metadata": {
    "colab": {},
    "colab_type": "code",
    "id": "0CR0KZH9tPYZ"
   },
   "outputs": [],
   "source": [
    "X_train, attributes_features_train, labels_train = awa2_dataset['train']\n",
    "X_val, attributes_features_val, labels_val = awa2_dataset['val']\n",
    "X_test, attributes_features_test, labels_test = awa2_dataset['test']"
   ]
  },
  {
   "cell_type": "code",
   "execution_count": 4,
   "metadata": {},
   "outputs": [
    {
     "data": {
      "text/plain": [
       "(27, 85)"
      ]
     },
     "execution_count": 4,
     "metadata": {},
     "output_type": "execute_result"
    }
   ],
   "source": [
    "attributes_features_train.shape"
   ]
  },
  {
   "cell_type": "code",
   "execution_count": 5,
   "metadata": {},
   "outputs": [
    {
     "data": {
      "text/plain": [
       "array([[10],\n",
       "       [ 5],\n",
       "       [11],\n",
       "       ...,\n",
       "       [12],\n",
       "       [ 3],\n",
       "       [11]], dtype=uint8)"
      ]
     },
     "execution_count": 5,
     "metadata": {},
     "output_type": "execute_result"
    }
   ],
   "source": [
    "labels_val"
   ]
  },
  {
   "cell_type": "markdown",
   "metadata": {},
   "source": [
    "### Classes "
   ]
  },
  {
   "cell_type": "code",
   "execution_count": 6,
   "metadata": {},
   "outputs": [
    {
     "name": "stdout",
     "output_type": "stream",
     "text": [
      "No of training classes: 27\n",
      "No of validation classes: 13\n",
      "No of test classes: 10\n"
     ]
    }
   ],
   "source": [
    "train_classes = set(labels_train.reshape(-1))\n",
    "val_classes = set(labels_val.reshape(-1))\n",
    "test_classes = set(labels_test.reshape(-1))\n",
    "\n",
    "print('No of training classes:', len(train_classes))\n",
    "print('No of validation classes:', len(val_classes))\n",
    "print('No of test classes:', len(test_classes))"
   ]
  },
  {
   "cell_type": "markdown",
   "metadata": {},
   "source": [
    "## Model\n",
    "\n",
    "Zero-shot learning models usually assume input data\n",
    "\n",
    "$X$ - data features, a $num\\_examples \\times num\\_dimensions$ matrix.\n",
    "\n",
    "$S$ - data attribute features, a $num\\_classes \\times num\\_attribute\\_dimensions$ matrix.\n",
    "\n",
    "$y$ - classes."
   ]
  },
  {
   "cell_type": "code",
   "execution_count": 7,
   "metadata": {
    "colab": {},
    "colab_type": "code",
    "id": "3fHg8P5eQpXc"
   },
   "outputs": [],
   "source": [
    "eszs_learner = ESZSLearner(lmbda=0.1, gamma=100)"
   ]
  },
  {
   "cell_type": "code",
   "execution_count": 8,
   "metadata": {},
   "outputs": [
    {
     "name": "stdout",
     "output_type": "stream",
     "text": [
      "Help on function fit in module scarce_shot_learn.zero.eszsl:\n",
      "\n",
      "fit(self, X, y, class_attributes)\n",
      "            X: {array-like, sparse matrix} of shape (n_samples, n_features)\n",
      "    \n",
      "            Training vector, where n_samples is the number of samples and n_features is the number of features.\n",
      "    yarray-like of shape (n_samples,)\n",
      "    \n",
      "            y: array-like of shape (n_samples,)\n",
      "            Target vector. n_classes = len(set(y))\n",
      "    \n",
      "            class_attributes: array-like of shape (training_n_classes, class_n_features)\n",
      "            where training_n_classes >= n_classes\n",
      "            classes from y map to attributes alphabetically\n",
      "\n"
     ]
    }
   ],
   "source": [
    "help(ESZSLearner.fit)"
   ]
  },
  {
   "cell_type": "code",
   "execution_count": 9,
   "metadata": {
    "colab": {},
    "colab_type": "code",
    "id": "QXJ024G7UaPZ"
   },
   "outputs": [
    {
     "name": "stderr",
     "output_type": "stream",
     "text": [
      "/usr/lib/python3/dist-packages/sklearn/preprocessing/_label.py:251: DataConversionWarning: A column-vector y was passed when a 1d array was expected. Please change the shape of y to (n_samples, ), for example using ravel().\n",
      "  y = column_or_1d(y, warn=True)\n"
     ]
    },
    {
     "name": "stdout",
     "output_type": "stream",
     "text": [
      "CPU times: user 31.8 s, sys: 30.6 s, total: 1min 2s\n",
      "Wall time: 2.04 s\n"
     ]
    }
   ],
   "source": [
    "%%time\n",
    "\n",
    "eszs_learner.fit(X_train, labels_train, attributes_features_train)"
   ]
  },
  {
   "cell_type": "code",
   "execution_count": 10,
   "metadata": {},
   "outputs": [
    {
     "name": "stdout",
     "output_type": "stream",
     "text": [
      "Help on function predict in module scarce_shot_learn.zero.eszsl:\n",
      "\n",
      "predict(self, X, class_attributes, labels_to_attributes=None)\n",
      "            X: {array-like, sparse matrix} of shape (n_samples, n_features)\n",
      "    \n",
      "            Feature vector, where n_samples is the number of samples and n_features is the number of features.\n",
      "    yarray-like of shape (n_samples,)\n",
      "    \n",
      "            class_attributes: array-like of shape (prediction_n_classes, class_n_features)\n",
      "    \n",
      "            labels_to_attributes: array-like of shape (prediction_n_classes,)\n",
      "            mapping between classes from class_attributes to prediction classes\n",
      "            (classes that will be in y_pred)\n",
      "\n"
     ]
    }
   ],
   "source": [
    "help(ESZSLearner.predict)"
   ]
  },
  {
   "cell_type": "code",
   "execution_count": 11,
   "metadata": {
    "colab": {},
    "colab_type": "code",
    "id": "TJwUyA_wS9EO"
   },
   "outputs": [],
   "source": [
    "predictions_train = eszs_learner.predict(X_train, attributes_features_train)"
   ]
  },
  {
   "cell_type": "code",
   "execution_count": 12,
   "metadata": {
    "colab": {
     "base_uri": "https://localhost:8080/",
     "height": 1989
    },
    "colab_type": "code",
    "id": "ncGO27QFbMs9",
    "outputId": "85533f7a-3801-4e80-ac7f-81e04ec03629"
   },
   "outputs": [],
   "source": [
    "predictions_test = eszs_learner.predict(X_test, attributes_features_test)"
   ]
  },
  {
   "cell_type": "code",
   "execution_count": 13,
   "metadata": {
    "colab": {},
    "colab_type": "code",
    "id": "TrrrCTkLU_oB"
   },
   "outputs": [],
   "source": [
    "train_accuracy = accuracy_score(labels_train, predictions_train)"
   ]
  },
  {
   "cell_type": "code",
   "execution_count": 14,
   "metadata": {},
   "outputs": [],
   "source": [
    "test_accuracy = accuracy_score(labels_test, predictions_test)"
   ]
  },
  {
   "cell_type": "markdown",
   "metadata": {},
   "source": [
    "### Final metric\n",
    "\n",
    "Generalized Zero-Shot Learning uses harmonic mean of train and test accuracy as metric."
   ]
  },
  {
   "cell_type": "code",
   "execution_count": 15,
   "metadata": {},
   "outputs": [],
   "source": [
    "train_test_harmonic_mean = hmean([train_accuracy, test_accuracy])"
   ]
  },
  {
   "cell_type": "code",
   "execution_count": 16,
   "metadata": {},
   "outputs": [
    {
     "name": "stdout",
     "output_type": "stream",
     "text": [
      "train accuracy: 0.9831\n",
      "test accuracy: 0.4814\n",
      "train/test accuracy harmonic mean: 0.6463\n"
     ]
    }
   ],
   "source": [
    "print('train accuracy:', round(train_accuracy, 4))\n",
    "print('test accuracy:', round(test_accuracy, 4))\n",
    "print('train/test accuracy harmonic mean:', round(train_test_harmonic_mean, 4))"
   ]
  }
 ],
 "metadata": {
  "colab": {
   "name": "ESZL AWA2.ipynb",
   "provenance": [],
   "version": "0.3.2"
  },
  "kernelspec": {
   "display_name": "Python 3",
   "language": "python",
   "name": "python3"
  },
  "language_info": {
   "codemirror_mode": {
    "name": "ipython",
    "version": 3
   },
   "file_extension": ".py",
   "mimetype": "text/x-python",
   "name": "python",
   "nbconvert_exporter": "python",
   "pygments_lexer": "ipython3",
   "version": "3.8.5"
  }
 },
 "nbformat": 4,
 "nbformat_minor": 2
}
